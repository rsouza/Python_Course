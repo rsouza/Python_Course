{
 "cells": [
  {
   "cell_type": "markdown",
   "metadata": {},
   "source": [
    "## First Assignment"
   ]
  },
  {
   "cell_type": "markdown",
   "metadata": {},
   "source": [
    "#### 1) Apply the appropriate string methods to the **x** variable (as '.upper') to change it exactly to: \"$Dichlorodiphenyltrichloroethane$\"."
   ]
  },
  {
   "cell_type": "code",
   "execution_count": 2,
   "metadata": {},
   "outputs": [],
   "source": [
    "x = \"DiClOrod  IFeNi  lTRicLOr oETaNo  DiChlorod iPHeny lTrichL oroEThaNe\""
   ]
  },
  {
   "cell_type": "code",
   "execution_count": 3,
   "metadata": {},
   "outputs": [
    {
     "data": {
      "text/plain": [
       "'Dichlorodiphenyltrichloroethane'"
      ]
     },
     "execution_count": 3,
     "metadata": {},
     "output_type": "execute_result"
    }
   ],
   "source": [
    "x.replace (' ','')[27:].title()"
   ]
  },
  {
   "cell_type": "code",
   "execution_count": null,
   "metadata": {},
   "outputs": [],
   "source": []
  },
  {
   "cell_type": "markdown",
   "metadata": {},
   "source": [
    "#### 2) Assign respectively the values: 'word', 15, 3.14 and 'list' to variables A, B, C and D in a single line of code. Then, print them in that same order on a single line separated by a space, using only one print statement."
   ]
  },
  {
   "cell_type": "code",
   "execution_count": 4,
   "metadata": {},
   "outputs": [
    {
     "name": "stdout",
     "output_type": "stream",
     "text": [
      "{'A': 'word', 'B': 15, 'C': 3.14, 'D': 'list'}\n"
     ]
    }
   ],
   "source": [
    "d1 = {'A':'word', 'B':15, 'C':3.14, 'D':'list'{\n",
    "print(d1)"
   ]
  },
  {
   "cell_type": "markdown",
   "metadata": {},
   "source": [
    "#### 3) Use the **input()** function to receive an input in the form **'68.4 1.71'**, that is, two floating point numbers in a line separated by space. Then, assign these numbers to the variables **w** and **h** respectively, which represent an individual's weight and height (hint: take a look at the '.split()' method). With this data, calculate the individual's Body Mass Index (BMI) from the following relationship: \n",
    "    \n",
    "\\begin{equation}\n",
    "BMI = \\dfrac{weight}{height^2}\n",
    "\\end{equation}"
   ]
  },
  {
   "cell_type": "code",
   "execution_count": 20,
   "metadata": {},
   "outputs": [
    {
     "name": "stdin",
     "output_type": "stream",
     "text": [
      "Enter your height 171\n",
      "Enter your weight 68.4\n"
     ]
    },
    {
     "name": "stdout",
     "output_type": "stream",
     "text": [
      "BMI is 23.39181286549708\n"
     ]
    }
   ],
   "source": [
    "h = float(input(\"Enter your height\"))\n",
    "\n",
    "w = float(input(\"Enter your weight\"))\n",
    "\n",
    "\n",
    "bmi = w / ((h/100)**2)\n",
    "\n",
    "print(f\"BMI is {bmi}\")"
   ]
  },
  {
   "cell_type": "markdown",
   "metadata": {},
   "source": [
    "#### This value can also be classified according to ranges of values, following to the table below. Use conditional structures to classify and print the classification assigned to the individual. \n",
    "\n",
    "<center><img src=\"https://healthtravelguide.com/wp-content/uploads/2020/06/Body-mass-index-table.png\" width=\"30%\"><\\center>  \n",
    "\n",
    "\n",
    "(source: https://healthtravelguide.com/bmi-calculator/)"
   ]
  },
  {
   "cell_type": "code",
   "execution_count": 7,
   "metadata": {},
   "outputs": [
    {
     "name": "stdout",
     "output_type": "stream",
     "text": [
      "underweight\n"
     ]
    }
   ],
   "source": [
    "if bmi <= 18.5:\n",
    "    print(\"underweight\")\n",
    "elif bmi <= 24.9:\n",
    "    print(\"normal weight\")\n",
    "elif bmi <= 29.9:\n",
    "    print(\"pre-obesity\")\n",
    "elif bmi <= 34.9:\n",
    "    print(\"obesity class I\")\n",
    "elif bmi <= 39.9:\n",
    "    print(\"obesity class II\")\n",
    "else:\n",
    "    print(\"obesity class III\")"
   ]
  },
  {
   "cell_type": "markdown",
   "metadata": {},
   "source": [
    "#### 4) Receive an integer as an input and, using a loop, calculate the factorial of this number, that is, the product of all the integers from one to the number provided. "
   ]
  },
  {
   "cell_type": "code",
   "execution_count": 5,
   "metadata": {},
   "outputs": [
    {
     "name": "stdin",
     "output_type": "stream",
     "text": [
      "Enter a number: 4\n"
     ]
    },
    {
     "name": "stdout",
     "output_type": "stream",
     "text": [
      "the factorial of 4 is 24\n"
     ]
    }
   ],
   "source": [
    "import math\n",
    "m = (int(input(\"Enter a number:\")))\n",
    "fact = math.factorial(m)\n",
    "print(\"the factorial of\", m, \"is\", fact)\n",
    "\n"
   ]
  },
  {
   "cell_type": "markdown",
   "metadata": {},
   "source": [
    "#### 5) Using a while loop and the input function, read an indefinite number of integers until the number read is -1. Present the sum of all these numbers in the form of a print, excluding the -1 read at the end. "
   ]
  },
  {
   "cell_type": "code",
   "execution_count": 2,
   "metadata": {},
   "outputs": [
    {
     "name": "stdin",
     "output_type": "stream",
     "text": [
      "Insert integer:  4\n",
      "Insert integer:  4\n",
      "Insert integer:  -1\n"
     ]
    },
    {
     "name": "stdout",
     "output_type": "stream",
     "text": [
      "[4, 4] 8\n"
     ]
    }
   ],
   "source": [
    "num_sum=0\n",
    "\n",
    "inputs = []\n",
    "while True:\n",
    "    inp = input(\"Insert integer: \")\n",
    "    \n",
    "    if inp == \"-1\":\n",
    "        break\n",
    "    inp = int(inp)\n",
    "    inputs.append(inp)\n",
    "    num_sum += inp\n",
    "\n",
    "print (inputs, num_sum)\n",
    " \n",
    "    "
   ]
  },
  {
   "cell_type": "code",
   "execution_count": null,
   "metadata": {},
   "outputs": [
    {
     "name": "stdin",
     "output_type": "stream",
     "text": [
      "Enter an integer: 3\n",
      "Enter an integer: 4\n"
     ]
    }
   ],
   "source": [
    "x = (int(input(\"Enter an integer:\")))\n",
    "num_sum=0\n",
    "count=0\n",
    "\n",
    "while True:\n",
    "    x = (int(input(\"Enter an integer:\")))\n",
    "    print(x)\n",
    "    num_sum += x\n",
    "    count += 1\n",
    "    print (num_sum)\n",
    "    if x < -1:\n",
    "        break"
   ]
  },
  {
   "cell_type": "markdown",
   "metadata": {},
   "source": [
    "#### 6) Read the **first name** of an employee, his **amount of hours worked** and the **salary per hour** in a single line separated by commas. Next, calculate the **total salary** for this employee and show it to two decimal places."
   ]
  },
  {
   "cell_type": "code",
   "execution_count": 3,
   "metadata": {},
   "outputs": [
    {
     "name": "stdout",
     "output_type": "stream",
     "text": [
      "2909.06\n"
     ]
    }
   ],
   "source": [
    "my_employee = ['Hans', 38.5, 75.56]\n",
    "type(my_employee)\n",
    "dir(my_employee)\n",
    "total = (my_employee[1]*my_employee[2])\n",
    "format_total = \"{:.2f}\".format(total)\n",
    "print(format_total)\n",
    "\n"
   ]
  },
  {
   "cell_type": "markdown",
   "metadata": {},
   "source": [
    "#### 7) Read three floating point values **A**, **B** and **C** respectively. Then calculate itens a, b, c, d and e: "
   ]
  },
  {
   "cell_type": "code",
   "execution_count": 11,
   "metadata": {},
   "outputs": [
    {
     "name": "stdout",
     "output_type": "stream",
     "text": [
      "26.77\n",
      "23.77\n",
      "21.9\n",
      "89.142\n",
      "155.00249999999997\n"
     ]
    }
   ],
   "source": [
    "A = 12.45\n",
    "B = 14.32\n",
    "C = 9.45\n",
    "\n",
    "a = A + B\n",
    "b = B + C\n",
    "c = A + C\n",
    "d = A / 2 * B\n",
    "e = A ** 2\n",
    "\n",
    "print(a)\n",
    "print(b)\n",
    "print(c)\n",
    "print(d)\n",
    "print(e)\n"
   ]
  },
  {
   "cell_type": "markdown",
   "metadata": {},
   "source": [
    "    a) the area of the triangle rectangle with A as the base and C as the height."
   ]
  },
  {
   "cell_type": "code",
   "execution_count": 12,
   "metadata": {},
   "outputs": [
    {
     "name": "stdout",
     "output_type": "stream",
     "text": [
      "The area of the triangle is 58.00\n"
     ]
    }
   ],
   "source": [
    "s = (A + B + C) / 2\n",
    "\n",
    "area_triangle = (s*(s-A)*(s-B)*(s-C)) ** 0.5\n",
    "print('The area of the triangle is %0.2f' %area_triangle)"
   ]
  },
  {
   "cell_type": "markdown",
   "metadata": {},
   "source": [
    "    b) the area of the circle of radius C. (pi = 3.14159) "
   ]
  },
  {
   "cell_type": "code",
   "execution_count": 13,
   "metadata": {},
   "outputs": [
    {
     "name": "stdout",
     "output_type": "stream",
     "text": [
      "The area of the circle with radius 9.45 is: 280.55207794720246\n"
     ]
    }
   ],
   "source": [
    "from math import pi\n",
    "print (\"The area of the circle with radius \" + str(C) + \" is: \" + str(pi * C**2))"
   ]
  },
  {
   "cell_type": "markdown",
   "metadata": {},
   "source": [
    "    c) the area of the trapezoid that has A and B for bases and C for height. "
   ]
  },
  {
   "cell_type": "code",
   "execution_count": 14,
   "metadata": {},
   "outputs": [
    {
     "name": "stdout",
     "output_type": "stream",
     "text": [
      "Area is: 126.48825\n"
     ]
    }
   ],
   "source": [
    "area_trapezoid = ((A + B) / 2) * C\n",
    "print(\"The area of the trapezoid is:\", area_trapezoid)"
   ]
  },
  {
   "cell_type": "markdown",
   "metadata": {},
   "source": [
    "    d) the area of the square that has side B. "
   ]
  },
  {
   "cell_type": "code",
   "execution_count": 16,
   "metadata": {},
   "outputs": [
    {
     "name": "stdout",
     "output_type": "stream",
     "text": [
      "The area of the square is: 205.0624\n"
     ]
    }
   ],
   "source": [
    "area_square = B ** 2\n",
    "print(\"The area of the square is:\", area_square)"
   ]
  },
  {
   "cell_type": "markdown",
   "metadata": {},
   "source": [
    "    e) the area of the rectangle that has sides A and B. "
   ]
  },
  {
   "cell_type": "code",
   "execution_count": 17,
   "metadata": {},
   "outputs": [
    {
     "name": "stdout",
     "output_type": "stream",
     "text": [
      "The area of the rectangle is: 178.284\n"
     ]
    }
   ],
   "source": [
    "area_rectangle = A * B\n",
    "print(\"The area of the rectangle is:\", area_rectangle)"
   ]
  },
  {
   "cell_type": "markdown",
   "metadata": {},
   "source": [
    "#### 8) Read **the values a, b and c** and calculate the **roots of the second degree equation** $ax^{2}+bx+c=0$ using [this formula](https://en.wikipedia.org/wiki/Quadratic_equation). If it is not possible to calculate the roots, display the message **“There are no real roots”**. "
   ]
  },
  {
   "cell_type": "code",
   "execution_count": 32,
   "metadata": {},
   "outputs": [
    {
     "name": "stdin",
     "output_type": "stream",
     "text": [
      "Enter an value a: -20\n",
      "Enter an value b: 3\n",
      "Enter an value c: -10\n"
     ]
    },
    {
     "name": "stdout",
     "output_type": "stream",
     "text": [
      "there are no real roots\n"
     ]
    }
   ],
   "source": [
    "import cmath\n",
    "\n",
    "a = (int(input(\"Enter an value a:\")))\n",
    "b = (int(input(\"Enter an value b:\")))\n",
    "c = (int(input(\"Enter an value c:\")))\n",
    "\n",
    "x = (b**2) - (4*a*c)\n",
    "\n",
    "\n",
    "if x > 0:\n",
    "    sol1 = (-b-cmath.sqrt(x))/(2*a)\n",
    "    sol2 = (-b+cmath.sqrt(x))/(2*a)\n",
    "    print(\"The solution are {0} and {1}\".format(sol1,sol2))\n",
    "else:\n",
    "    print('there are no real roots')\n",
    "\n",
    "\n",
    "\n",
    "\n",
    "\n"
   ]
  },
  {
   "cell_type": "markdown",
   "metadata": {},
   "source": [
    "#### 9) Read four floating point numerical values corresponding to the coordinates of two geographical coordinates in the cartesian plane. Each point will come in a line with its coordinates separated by space. Then calculate and show the distance between these two points. \n",
    "\n",
    "(obs: $d=\\sqrt{(x_1-x_2)^2 + (y_1-y_2)^2}$)"
   ]
  },
  {
   "cell_type": "code",
   "execution_count": 31,
   "metadata": {},
   "outputs": [
    {
     "name": "stdout",
     "output_type": "stream",
     "text": [
      "11.652960395542804\n"
     ]
    }
   ],
   "source": [
    "import math\n",
    "\n",
    "coord_1 = 41.4430566, 19.3345678\n",
    "x_1, y_1 = coord_1\n",
    "\n",
    "coord_2 = 52.2296756, 14.9254481\n",
    "x_2, y_2 = coord_2\n",
    "\n",
    "d = math.sqrt(((x_1 - x_2)**2) + ((y_1 - y_2)**2))\n",
    "print(d)\n",
    "\n",
    "\n",
    "\n"
   ]
  },
  {
   "cell_type": "markdown",
   "metadata": {},
   "source": [
    "#### 10) Read **two floating point numbers** on a line that represent **coordinates of a cartesian point**. With this, use **conditional structures** to determine if you are at the origin, printing the message **'origin'**; in one of the axes, printing **'x axis'** or **'y axis'**; or in one of the four quadrants, printing **'q1'**, **'q2**', **'q3'** or **'q4'**. "
   ]
  },
  {
   "cell_type": "code",
   "execution_count": 40,
   "metadata": {},
   "outputs": [
    {
     "name": "stdout",
     "output_type": "stream",
     "text": [
      "q1\n"
     ]
    }
   ],
   "source": [
    "coord = 41.4430566, 19.3345678\n",
    "x, y = coord\n",
    "\n",
    "\n",
    "if x == 0 and y == 0:\n",
    "    print('origin')\n",
    "elif x==0: print('x axis')\n",
    "elif y == 0: print('y axis')\n",
    "elif x < 0 and y < 0: print('q3')\n",
    "elif x > 0 and y < 0: print('q2')\n",
    "elif x > 0 and y > 0: print('q1')\n",
    "else: print('q4')\n",
    "    \n",
    "\n"
   ]
  },
  {
   "cell_type": "markdown",
   "metadata": {},
   "source": [
    "#### 11) Read an integer that represents a phone code for international dialing.  \n",
    "#### Then, inform to which country the code belongs to, considering the generated table below:\n",
    "(You just need to consider the first 10 entries)  "
   ]
  },
  {
   "cell_type": "code",
   "execution_count": 2,
   "metadata": {},
   "outputs": [
    {
     "data": {
      "text/html": [
       "<div>\n",
       "<style scoped>\n",
       "    .dataframe tbody tr th:only-of-type {\n",
       "        vertical-align: middle;\n",
       "    }\n",
       "\n",
       "    .dataframe tbody tr th {\n",
       "        vertical-align: top;\n",
       "    }\n",
       "\n",
       "    .dataframe thead th {\n",
       "        text-align: right;\n",
       "    }\n",
       "</style>\n",
       "<table border=\"1\" class=\"dataframe\">\n",
       "  <thead>\n",
       "    <tr style=\"text-align: right;\">\n",
       "      <th></th>\n",
       "      <th>Country</th>\n",
       "      <th>Country calling code</th>\n",
       "    </tr>\n",
       "  </thead>\n",
       "  <tbody>\n",
       "    <tr>\n",
       "      <th>0</th>\n",
       "      <td>Austria</td>\n",
       "      <td>43</td>\n",
       "    </tr>\n",
       "    <tr>\n",
       "      <th>1</th>\n",
       "      <td>Belgium</td>\n",
       "      <td>32</td>\n",
       "    </tr>\n",
       "    <tr>\n",
       "      <th>2</th>\n",
       "      <td>Bulgaria</td>\n",
       "      <td>359</td>\n",
       "    </tr>\n",
       "    <tr>\n",
       "      <th>3</th>\n",
       "      <td>Croatia</td>\n",
       "      <td>385</td>\n",
       "    </tr>\n",
       "    <tr>\n",
       "      <th>4</th>\n",
       "      <td>Cyprus</td>\n",
       "      <td>357</td>\n",
       "    </tr>\n",
       "    <tr>\n",
       "      <th>5</th>\n",
       "      <td>Czech Republic</td>\n",
       "      <td>420</td>\n",
       "    </tr>\n",
       "    <tr>\n",
       "      <th>6</th>\n",
       "      <td>Denmark</td>\n",
       "      <td>45</td>\n",
       "    </tr>\n",
       "    <tr>\n",
       "      <th>7</th>\n",
       "      <td>Estonia</td>\n",
       "      <td>372</td>\n",
       "    </tr>\n",
       "    <tr>\n",
       "      <th>8</th>\n",
       "      <td>Finland</td>\n",
       "      <td>358</td>\n",
       "    </tr>\n",
       "    <tr>\n",
       "      <th>9</th>\n",
       "      <td>France</td>\n",
       "      <td>33</td>\n",
       "    </tr>\n",
       "    <tr>\n",
       "      <th>10</th>\n",
       "      <td>Germany</td>\n",
       "      <td>49</td>\n",
       "    </tr>\n",
       "    <tr>\n",
       "      <th>11</th>\n",
       "      <td>Greece</td>\n",
       "      <td>30</td>\n",
       "    </tr>\n",
       "    <tr>\n",
       "      <th>12</th>\n",
       "      <td>Hungary</td>\n",
       "      <td>36</td>\n",
       "    </tr>\n",
       "    <tr>\n",
       "      <th>13</th>\n",
       "      <td>Iceland</td>\n",
       "      <td>354</td>\n",
       "    </tr>\n",
       "    <tr>\n",
       "      <th>14</th>\n",
       "      <td>Ireland</td>\n",
       "      <td>353</td>\n",
       "    </tr>\n",
       "    <tr>\n",
       "      <th>15</th>\n",
       "      <td>Italy</td>\n",
       "      <td>39</td>\n",
       "    </tr>\n",
       "    <tr>\n",
       "      <th>16</th>\n",
       "      <td>Latvia</td>\n",
       "      <td>371</td>\n",
       "    </tr>\n",
       "    <tr>\n",
       "      <th>17</th>\n",
       "      <td>Liechtenstein</td>\n",
       "      <td>423</td>\n",
       "    </tr>\n",
       "    <tr>\n",
       "      <th>18</th>\n",
       "      <td>Lithuania</td>\n",
       "      <td>370</td>\n",
       "    </tr>\n",
       "    <tr>\n",
       "      <th>19</th>\n",
       "      <td>Luxembourg</td>\n",
       "      <td>352</td>\n",
       "    </tr>\n",
       "  </tbody>\n",
       "</table>\n",
       "</div>"
      ],
      "text/plain": [
       "           Country Country calling code\n",
       "0          Austria                   43\n",
       "1          Belgium                   32\n",
       "2         Bulgaria                  359\n",
       "3          Croatia                  385\n",
       "4           Cyprus                  357\n",
       "5   Czech Republic                  420\n",
       "6          Denmark                   45\n",
       "7          Estonia                  372\n",
       "8          Finland                  358\n",
       "9           France                   33\n",
       "10         Germany                   49\n",
       "11          Greece                   30\n",
       "12         Hungary                   36\n",
       "13         Iceland                  354\n",
       "14         Ireland                  353\n",
       "15           Italy                   39\n",
       "16          Latvia                  371\n",
       "17   Liechtenstein                  423\n",
       "18       Lithuania                  370\n",
       "19      Luxembourg                  352"
      ]
     },
     "execution_count": 2,
     "metadata": {},
     "output_type": "execute_result"
    }
   ],
   "source": [
    "import pandas as pd\n",
    "df = pd.read_html('https://en.wikipedia.org/wiki/Telephone_numbers_in_Europe')[1]\n",
    "df = df.iloc[:,:2]\n",
    "df.head(20)"
   ]
  },
  {
   "cell_type": "code",
   "execution_count": 6,
   "metadata": {},
   "outputs": [
    {
     "name": "stdin",
     "output_type": "stream",
     "text": [
      "what is your code number 385\n"
     ]
    },
    {
     "data": {
      "text/plain": [
       "'Croatia'"
      ]
     },
     "execution_count": 6,
     "metadata": {},
     "output_type": "execute_result"
    }
   ],
   "source": [
    "codes = {\"43\": 'Austria', \"32\": 'Belgium', \"359\": 'Bulgaria', \"385\": 'Croatia', \"357\": 'Cyprus', \"420\": 'Czech Republic', \"45\": 'Denmark', \"372\": 'Estonia', \"358\": 'Finnland', \"33\": 'France', \"49\": 'Germany'}\n",
    "my_code = input(\"what is your code number\")\n",
    "codes[my_code]\n",
    "        \n",
    "        \n",
    "\n"
   ]
  },
  {
   "cell_type": "markdown",
   "metadata": {},
   "source": [
    "#### 12) Write a piece of code that reads 6 numbers in a row. Next, show the number of positive values entered. On the next line, print the average of the values to one decimal place. "
   ]
  },
  {
   "cell_type": "code",
   "execution_count": 16,
   "metadata": {},
   "outputs": [
    {
     "name": "stdout",
     "output_type": "stream",
     "text": [
      "Positive Tuple Items =  (-1, -2, 3, -4, 7, 6)\n",
      "\n",
      "The Positive Numbers in this newTuple Tuple are:\n",
      "3  7  6  <function ave_pos at 0x11693c310>\n"
     ]
    }
   ],
   "source": [
    "newTuple = (-1, -2, 3, -4, 7, 6)\n",
    "\n",
    "print(\"Positive Tuple Items = \", newTuple)\n",
    "\n",
    "print(\"\\nThe Positive Numbers in this newTuple Tuple are:\")\n",
    "for posnum in newTuple:\n",
    "    if(posnum >= 0):\n",
    "        print(posnum, end = \"  \")\n",
    "        \n",
    "def ave_pos(posnum):\n",
    "    count = 0\n",
    "    sum = 0.0\n",
    "    for x in newTuple:\n",
    "        sum_pos = sum_pos + x\n",
    "        count += 1\n",
    "    return sum_pos / count\n",
    "\n",
    "response = (ave_pos);\n",
    "print(response) \n",
    "##print(\"{:.1f}\".format(response))\n",
    "\n",
    "\n",
    "\n",
    "\n",
    "\n",
    "        "
   ]
  },
  {
   "cell_type": "markdown",
   "metadata": {},
   "source": [
    "#### 13) Read an integer **N**. Then print the **square of each of the even values**, from 1 to N, including N, if applicable, arranged one per line. "
   ]
  },
  {
   "cell_type": "code",
   "execution_count": 46,
   "metadata": {},
   "outputs": [
    {
     "name": "stdin",
     "output_type": "stream",
     "text": [
      "Enter an integer: 6\n"
     ]
    },
    {
     "name": "stdout",
     "output_type": "stream",
     "text": [
      "0 1 4 9 16 25 "
     ]
    }
   ],
   "source": [
    "def printSquares(N):\n",
    " \n",
    "    square = 0; prev_x = 0;\n",
    " \n",
    "    for x in range(0, N):\n",
    "         \n",
    "        square = (square + x + prev_x)\n",
    " \n",
    "        print(square, end = \" \")\n",
    "        prev_x = x\n",
    " \n",
    "N = (int(input(\"Enter an integer:\")));\n",
    "printSquares(N);"
   ]
  },
  {
   "cell_type": "markdown",
   "metadata": {},
   "source": [
    "#### 14) Using **input()**, read an integer and print its classification as **'even / odd'** and **'positive / negative'** . The two classes for the number must be printed on the same line separated by a space. In the case of zero, print only **'null'**. "
   ]
  },
  {
   "cell_type": "code",
   "execution_count": 3,
   "metadata": {},
   "outputs": [
    {
     "name": "stdin",
     "output_type": "stream",
     "text": [
      " -33\n"
     ]
    },
    {
     "name": "stdout",
     "output_type": "stream",
     "text": [
      "is Odd negative\n"
     ]
    }
   ],
   "source": [
    "num = int(input())\n",
    "while num == 0:\n",
    "       print(\"null\")\n",
    "\n",
    "        \n",
    "if num > 0:\n",
    "    \n",
    "    if (num % 2) == 0:\n",
    "        print(\"Positive even number\")\n",
    "    else:\n",
    "        print(\"Positive odd number\")       \n",
    "else:\n",
    "    \n",
    "    if (num % 2) == 0:\n",
    "        print(\"is Even negative\".format(num))\n",
    "if (num % 2) != 0:\n",
    "    print(\"is Odd negative\".format(num))\n",
    "\n"
   ]
  },
  {
   "cell_type": "code",
   "execution_count": 7,
   "metadata": {},
   "outputs": [
    {
     "name": "stdin",
     "output_type": "stream",
     "text": [
      " -33\n"
     ]
    },
    {
     "name": "stdout",
     "output_type": "stream",
     "text": [
      "odd negative\n"
     ]
    }
   ],
   "source": [
    "##version 2\n",
    "\n",
    "my_new_integer = int(input())\n",
    "if my_new_integer %2 and my_new_integer > 0:\n",
    "    print(\"even positive\")\n",
    "elif my_new_integer == 0:\n",
    "    print (\"null\")\n",
    "elif my_new_integer < 0 and my_new_integer %2 == 0:\n",
    "    print (\"even negative\")\n",
    "elif my_new_integer > 0 and my_new_integer %2 != 0:\n",
    "    print (\"odd positive\")\n",
    "else:\n",
    "    print (\"odd negative\")"
   ]
  },
  {
   "cell_type": "markdown",
   "metadata": {},
   "source": [
    "## Challenge\n",
    "#### 15) Ordering problems are recurrent in the history of programming. Over time, several algorithms have been developed to fulfill this function. The simplest of these algorithms is the [**Bubble Sort**](https://en.wikipedia.org/wiki/Bubble_sort), which is based on comparisons of elements two by two in a loop of passes through the elements. Your mission, if you decide to accept it, will be to input six whole numbers ramdonly ordered. Then implement the **Bubble Sort** principle to order these six numbers **using only loops and conditionals**.  \n",
    "#### At the end, print the six numbers in ascending order on a single line separated by spaces. "
   ]
  },
  {
   "cell_type": "code",
   "execution_count": 29,
   "metadata": {},
   "outputs": [
    {
     "data": {
      "text/plain": [
       "[97, 281, 313, 346, 352, 377]"
      ]
     },
     "execution_count": 29,
     "metadata": {},
     "output_type": "execute_result"
    }
   ],
   "source": [
    "import random\n",
    "def bubblesort(a):\n",
    "  i = len(a)\n",
    "  while i!=0:\n",
    "    j = 0\n",
    "    while j!=i-1:\n",
    "      if(a[j+1]<a[j]):\n",
    "        temp = a[j+1]\n",
    "        a[j+1] =a[j]\n",
    "        a[j]=temp\n",
    "      j+=1\n",
    "    i-=1\n",
    "\n",
    "a=random.sample(range(0,1000),6)\n",
    "bubblesort(a)\n",
    "a"
   ]
  },
  {
   "cell_type": "code",
   "execution_count": null,
   "metadata": {},
   "outputs": [],
   "source": []
  }
 ],
 "metadata": {
  "kernelspec": {
   "display_name": "Python 3",
   "language": "python",
   "name": "python3"
  },
  "language_info": {
   "codemirror_mode": {
    "name": "ipython",
    "version": 3
   },
   "file_extension": ".py",
   "mimetype": "text/x-python",
   "name": "python",
   "nbconvert_exporter": "python",
   "pygments_lexer": "ipython3",
   "version": "3.8.8"
  },
  "toc-autonumbering": true,
  "toc-showcode": true,
  "toc-showmarkdowntxt": true
 },
 "nbformat": 4,
 "nbformat_minor": 4
}
