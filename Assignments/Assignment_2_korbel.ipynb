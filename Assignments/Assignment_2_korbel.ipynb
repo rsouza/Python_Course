{
 "cells": [
  {
   "cell_type": "markdown",
   "metadata": {},
   "source": [
    "## Second Assignment"
   ]
  },
  {
   "cell_type": "markdown",
   "metadata": {},
   "source": [
    "#### 1) Create a function called **\"even_squared\"** that receives an integer value **N**, and returns a list containing, in ascending order, the square of each of the even values, from 1 to N, including N if applicable. "
   ]
  },
  {
   "cell_type": "code",
   "execution_count": 2,
   "metadata": {},
   "outputs": [
    {
     "name": "stdin",
     "output_type": "stream",
     "text": [
      " 44\n"
     ]
    },
    {
     "name": "stdout",
     "output_type": "stream",
     "text": [
      "[4, 16, 36, 64, 100, 144, 196, 256, 324, 400, 484, 576, 676, 784, 900, 1024, 1156, 1296, 1444, 1600, 1764, 1936]\n"
     ]
    }
   ],
   "source": [
    "N = int(input())\n",
    "print([i**2 for i in range(1,N + 1) if i % 2 == 0])"
   ]
  },
  {
   "cell_type": "code",
   "execution_count": 4,
   "metadata": {},
   "outputs": [
    {
     "name": "stdin",
     "output_type": "stream",
     "text": [
      "an integer 33\n"
     ]
    },
    {
     "name": "stdout",
     "output_type": "stream",
     "text": [
      "<class 'list'>\n"
     ]
    }
   ],
   "source": [
    "N = int(input(\"an integer\"))\n",
    "def even_squared(list):\n",
    "    return [append(N ** 2) for N in list and N % 2 == 0]\n",
    "print(list)"
   ]
  },
  {
   "cell_type": "code",
   "execution_count": null,
   "metadata": {},
   "outputs": [],
   "source": [
    "\n",
    "    \n",
    "    "
   ]
  },
  {
   "cell_type": "code",
   "execution_count": null,
   "metadata": {},
   "outputs": [],
   "source": []
  },
  {
   "cell_type": "markdown",
   "metadata": {},
   "source": [
    "#### 2) Using a while loop and the **input()** function, read an indefinite amount of **integers** until the number read is **-1**. After this process, print two lists on the screen: The first containing the even integers, and the second containing the odd integers. Both must be in ascending order. "
   ]
  },
  {
   "cell_type": "code",
   "execution_count": null,
   "metadata": {},
   "outputs": [
    {
     "name": "stdin",
     "output_type": "stream",
     "text": [
      "Enter a list of integers separated by space  1 2 3 -1\n"
     ]
    }
   ],
   "source": [
    "lst_integers = input(\"Enter a list of integers separated by space \")\n",
    "print(\"\\n\")\n",
    "entered_integers = lst_integers.split()\n",
    "for i in range(len(entered_integers)):\n",
    "    entered_integers[i] = int(entered_integers[i])\n",
    "\n",
    "while n != (-1):\n",
    "    for i in range(0, n):\n",
    "        lst_integers.append(i)\n",
    "\n",
    "def odd_even(list):\n",
    "    even=[]\n",
    "    odd=[]\n",
    "    if num % 2 == 0:\n",
    "        even.append(num)\n",
    "    else:\n",
    "        odd.append(num)\n",
    "    return even\n",
    "    return odd\n",
    " \n",
    "print(odd_even(entered_integers))\n",
    "\n",
    "\n"
   ]
  },
  {
   "cell_type": "code",
   "execution_count": 6,
   "metadata": {},
   "outputs": [
    {
     "name": "stdin",
     "output_type": "stream",
     "text": [
      "Input a number, enter -1 to stop 30\n"
     ]
    },
    {
     "name": "stdout",
     "output_type": "stream",
     "text": [
      "([0, 2, 4, 6, 8, 10, 12, 14, 16, 18, 20, 22, 24, 26, 28], [1, 3, 5, 7, 9, 11, 13, 15, 17, 19, 21, 23, 25, 27, 29])\n"
     ]
    }
   ],
   "source": [
    "\n",
    "def odd_even(L):\n",
    "    even=[]\n",
    "    odd=[]\n",
    "    for x in L:\n",
    "        if x%2==0:\n",
    "            even.append(x)\n",
    "        else:\n",
    "            odd.append(x)\n",
    "    return even,odd\n",
    "\n",
    "#while L != -1: \n",
    "L= range(int(input('Input a number, enter -1 to stop')))  \n",
    "#if L == -1:\n",
    "    #break\n",
    "print(odd_even(L))"
   ]
  },
  {
   "cell_type": "code",
   "execution_count": null,
   "metadata": {},
   "outputs": [
    {
     "name": "stdin",
     "output_type": "stream",
     "text": [
      "Input a number, enter -1 to stop 20\n"
     ]
    }
   ],
   "source": [
    "even = []\n",
    "odd = []\n",
    "number = int(input('Input a number, enter -1 to stop'))\n",
    "while number != -1:\n",
    "    if number % 2 == 0:\n",
    "        even.append(number)\n",
    "    elif number % 2 != 0:\n",
    "        odd.append(number)\n",
    "    elif number == -1:\n",
    "        break\n",
    "        \n",
    "print(even)\n",
    "print(odd)"
   ]
  },
  {
   "cell_type": "markdown",
   "metadata": {},
   "source": [
    "#### 3) Create a function called **\"even_account\"** that receives a list of integers, counts the number of existing even elements, and returns this count. "
   ]
  },
  {
   "cell_type": "code",
   "execution_count": null,
   "metadata": {},
   "outputs": [],
   "source": []
  },
  {
   "cell_type": "code",
   "execution_count": 15,
   "metadata": {},
   "outputs": [
    {
     "name": "stdout",
     "output_type": "stream",
     "text": [
      "Number of elements in the list:  4\n"
     ]
    }
   ],
   "source": [
    "list_b = [1, 2, 3, 2, 4, 2]\n",
    "\n",
    "def even_account(list):\n",
    "    count = 0\n",
    "    for element in list:\n",
    "        if element % 2 == 0:\n",
    "            count += 1\n",
    "        else:\n",
    "            count += 0\n",
    "    return count\n",
    "\n",
    "print(\"Number of elements in the list: \", even_account(list_b))\n",
    "   \n"
   ]
  },
  {
   "cell_type": "code",
   "execution_count": null,
   "metadata": {},
   "outputs": [],
   "source": []
  },
  {
   "cell_type": "markdown",
   "metadata": {},
   "source": [
    "#### 4) Create a function called **\"squared_list\"** that receives a list of integers and returns another list whose elements are the squares of the elements of the first. "
   ]
  },
  {
   "cell_type": "code",
   "execution_count": 17,
   "metadata": {},
   "outputs": [
    {
     "name": "stdout",
     "output_type": "stream",
     "text": [
      "list of the squares:  [1, 4, 9, 16, 25]\n"
     ]
    }
   ],
   "source": [
    "list_c = [1, 2, 3, 4, 5]\n",
    "\n",
    "def squared_list(list):\n",
    "    sq_list = []\n",
    "    for element in list:\n",
    "        sq_list += [element ** 2]\n",
    "    return sq_list\n",
    "\n",
    "print(\"list of the squares: \", squared_list(list_c))\n",
    "    "
   ]
  },
  {
   "cell_type": "markdown",
   "metadata": {},
   "source": [
    "#### 5) Create a function called **\"descending\"** that receives two lists of integers and returns a single list, which contains all the elements in descending order, and may include repeated elements. "
   ]
  },
  {
   "cell_type": "code",
   "execution_count": 35,
   "metadata": {},
   "outputs": [
    {
     "name": "stdout",
     "output_type": "stream",
     "text": [
      "new list:  [12, 9, 6, 5, 4, 3, 3, 3, 2, 2, 1]\n"
     ]
    }
   ],
   "source": [
    "list_d = [3, 2, 6, 9, 12, 3]\n",
    "list_e = [1, 2, 3, 4, 5]\n",
    "\n",
    "def descending(list):\n",
    "    single_list = [*list, *list_e]\n",
    "    single_list.sort(reverse=True)\n",
    "    return single_list\n",
    "\n",
    "print(\"new list: \", descending(list_d))\n",
    "    "
   ]
  },
  {
   "cell_type": "code",
   "execution_count": 20,
   "metadata": {},
   "outputs": [
    {
     "name": "stdout",
     "output_type": "stream",
     "text": [
      "None\n"
     ]
    }
   ],
   "source": [
    "\n"
   ]
  },
  {
   "cell_type": "markdown",
   "metadata": {},
   "source": [
    "#### 6) Create a function called **\"adding\"** that receives a list **A**, and an arbitrary number of integers as input. Return a new list containing the elements of **A** plus the integers passed as input, in the order in which they were given. Here is an example: \n",
    "\n",
    ">```python\n",
    ">>>> A = [10,20,30]\n",
    ">>>> adding(A, 4, 10, 50, 1)\n",
    "> [10, 20, 30, 4, 10, 50, 1]\n",
    "```"
   ]
  },
  {
   "cell_type": "code",
   "execution_count": 38,
   "metadata": {},
   "outputs": [
    {
     "name": "stdin",
     "output_type": "stream",
     "text": [
      "Enter elements of a list separated by space  1 2 4 5 6 7\n"
     ]
    },
    {
     "name": "stdout",
     "output_type": "stream",
     "text": [
      "\n",
      "\n",
      "merged list:  [1, 2, 4, 5, 6, 7, [10, 20, 30]]\n"
     ]
    }
   ],
   "source": [
    "list_A = [10, 20, 30]\n",
    "\n",
    "input_integers = input(\"Enter elements of a list separated by space \")\n",
    "print(\"\\n\")\n",
    "entered_list = input_integers.split()\n",
    "for i in range(len(entered_list)):\n",
    "    entered_list[i] = int(entered_list[i])\n",
    "\n",
    "def adding(list):\n",
    "    merged_list = [*list,list_A]\n",
    "    return merged_list\n",
    "\n",
    "print(\"merged list: \", adding(entered_list))\n"
   ]
  },
  {
   "cell_type": "markdown",
   "metadata": {},
   "source": [
    "#### 7) Create a function called **\"intersection\"** that receives two input lists and returns another list with the values that belong to the two lists simultaneously (intersection) without repetition of values and in ascending order. Use only lists (do not use sets); loops and conditionals. See the example: \n",
    "\n",
    ">```python\n",
    ">>>> A = [-2, 0, 1, 2, 3]\n",
    ">>>> B = [-1, 2, 3, 6, 8]\n",
    ">>>> intersection(A,B)\n",
    "> [2, 3]\n",
    "```"
   ]
  },
  {
   "cell_type": "code",
   "execution_count": 6,
   "metadata": {},
   "outputs": [
    {
     "name": "stdin",
     "output_type": "stream",
     "text": [
      "Enter 5 elements of a list separated by space  1 2 3 4 5\n"
     ]
    },
    {
     "name": "stdout",
     "output_type": "stream",
     "text": [
      "\n",
      "\n"
     ]
    },
    {
     "name": "stdin",
     "output_type": "stream",
     "text": [
      "Enter several elements of a list separated by space  2 3 4 5\n"
     ]
    },
    {
     "name": "stdout",
     "output_type": "stream",
     "text": [
      "\n",
      "\n",
      "[2, 3, 4, 5]\n"
     ]
    }
   ],
   "source": [
    "input_lit_a = input(\"Enter 5 elements of a list separated by space \")\n",
    "print(\"\\n\")\n",
    "entered_lit_a = input_lit_a.split()\n",
    "for i in range(len(entered_lit_a)):\n",
    "    entered_lit_a[i] = int(entered_lit_a[i])\n",
    "    \n",
    "input_lit_b = input(\"Enter several elements of a list separated by space \")\n",
    "print(\"\\n\")\n",
    "entered_lit_b = input_lit_b.split()\n",
    "for i in range(len(entered_lit_b)):\n",
    "    entered_lit_b[i] = int(entered_lit_b[i])\n",
    "\n",
    "\n",
    "def intersection(lst1, lst2):\n",
    "    lit_c = [value for value in entered_lit_a if value in entered_lit_b]\n",
    "    return lit_c\n",
    "\n",
    "print(intersection(entered_lit_a, entered_lit_b))\n",
    "\n"
   ]
  },
  {
   "cell_type": "markdown",
   "metadata": {},
   "source": [
    "#### 8) Create a function called **\"union\"** that receives two input lists and returns another list with the union of the elements of the two received, without repetition of elements and in ascending order. Use only lists (do not use sets); loops and conditionals. See the example: \n",
    "\n",
    ">```python\n",
    ">>>> A = [-2, 0, 1, 2]\n",
    ">>>> B = [-1, 1, 2, 10]\n",
    ">>>> union(A,B)\n",
    "> [-2, ,-1, 0, 1, 2, 10]\n",
    "```"
   ]
  },
  {
   "cell_type": "code",
   "execution_count": 4,
   "metadata": {},
   "outputs": [],
   "source": [
    "## alternative solution either with numpy or set \n",
    "## import numpy as np\n",
    "\n",
    "#input_lit_a = input(\"Enter an integers seperated by space\")\n",
    "#print(\"\\n\")\n",
    "#entered_lit_a = input_lit_a.split()\n",
    "#for i in range(len(entered_lit_a)):\n",
    "    #entered_lit_a[i] = int(entered_lit_a[i])\n",
    "    \n",
    "#input_lit_b = input(\"Enter integers seperated by space\")\n",
    "#print(\"\\n\")\n",
    "#entered_lit_b = input_lit_b.split()\n",
    "#for i in range(len(entered_lit_b)):\n",
    "    #entered_lit_b[i] = int(entered_lit_b[i])\n",
    "\n",
    "\n",
    "#def union(lst1, lst2):\n",
    "    # lit_c = set(entered_lit_a + entered_lit_b) if I could use set\n",
    "    # lit_c = np.unique(entered_lit_a + entered_lit_b)\n",
    "    #return lit_c\n",
    "\n",
    "#print(union(entered_lit_a, entered_lit_b))"
   ]
  },
  {
   "cell_type": "code",
   "execution_count": 6,
   "metadata": {},
   "outputs": [
    {
     "name": "stdin",
     "output_type": "stream",
     "text": [
      "Enter an integers seperated by space 1 2 2 3 4 4 5\n"
     ]
    },
    {
     "name": "stdout",
     "output_type": "stream",
     "text": [
      "\n",
      "\n"
     ]
    },
    {
     "name": "stdin",
     "output_type": "stream",
     "text": [
      "Enter integers seperated by space 3 4 5 5\n"
     ]
    },
    {
     "name": "stdout",
     "output_type": "stream",
     "text": [
      "\n",
      "\n",
      "[1, 2, 3, 4, 5]\n"
     ]
    }
   ],
   "source": [
    "input_lit_a = input(\"Enter an integers seperated by space\")\n",
    "print(\"\\n\")\n",
    "entered_lit_a = input_lit_a.split()\n",
    "for i in range(len(entered_lit_a)):\n",
    "    entered_lit_a[i] = int(entered_lit_a[i])\n",
    "    \n",
    "input_lit_b = input(\"Enter integers seperated by space\")\n",
    "print(\"\\n\")\n",
    "entered_lit_b = input_lit_b.split()\n",
    "for i in range(len(entered_lit_b)):\n",
    "    entered_lit_b[i] = int(entered_lit_b[i])\n",
    "    \n",
    "def union(lst1, lst2):\n",
    "    lst_c = list(entered_lit_a)\n",
    "    lst_c.extend(x for x in entered_lit_b if x not in lst_c)\n",
    "    lst_c.sort()\n",
    "    lst_c = list(set(lst_c))\n",
    "    return lst_c\n",
    "\n",
    "print(union(entered_lit_a, entered_lit_b))"
   ]
  },
  {
   "cell_type": "markdown",
   "metadata": {},
   "source": [
    "#### 9) Generalize the **\"intersection\"** function so that it receives an indefinite number of lists and returns the intersection of all of them. Call the new function **intersection2**. "
   ]
  },
  {
   "cell_type": "code",
   "execution_count": 9,
   "metadata": {},
   "outputs": [
    {
     "name": "stdin",
     "output_type": "stream",
     "text": [
      "Enter elements of a list separated by space  1 2 3 4 5 \n"
     ]
    },
    {
     "name": "stdout",
     "output_type": "stream",
     "text": [
      "\n",
      "\n"
     ]
    },
    {
     "name": "stdin",
     "output_type": "stream",
     "text": [
      "Enter several elements of a list separated by space  2 3 4 5 6\n"
     ]
    },
    {
     "name": "stdout",
     "output_type": "stream",
     "text": [
      "\n",
      "\n",
      "[2, 3, 4, 5]\n"
     ]
    },
    {
     "name": "stdin",
     "output_type": "stream",
     "text": [
      "Enter elements of a list separated by space  2 3 4 5\n"
     ]
    },
    {
     "name": "stdout",
     "output_type": "stream",
     "text": [
      "\n",
      "\n"
     ]
    },
    {
     "ename": "NameError",
     "evalue": "name 'lit_f' is not defined",
     "output_type": "error",
     "traceback": [
      "\u001b[0;31m---------------------------------------------------------------------------\u001b[0m",
      "\u001b[0;31mNameError\u001b[0m                                 Traceback (most recent call last)",
      "\u001b[0;32m<ipython-input-9-9874c48f0b15>\u001b[0m in \u001b[0;36m<module>\u001b[0;34m\u001b[0m\n\u001b[1;32m     29\u001b[0m     \u001b[0;32mreturn\u001b[0m \u001b[0mlit_e\u001b[0m\u001b[0;34m\u001b[0m\u001b[0;34m\u001b[0m\u001b[0m\n\u001b[1;32m     30\u001b[0m \u001b[0;34m\u001b[0m\u001b[0m\n\u001b[0;32m---> 31\u001b[0;31m \u001b[0mprint\u001b[0m\u001b[0;34m(\u001b[0m\u001b[0mintersection\u001b[0m\u001b[0;34m(\u001b[0m\u001b[0mlit_f\u001b[0m\u001b[0;34m,\u001b[0m \u001b[0mentered_lit_d\u001b[0m\u001b[0;34m)\u001b[0m\u001b[0;34m)\u001b[0m\u001b[0;34m\u001b[0m\u001b[0;34m\u001b[0m\u001b[0m\n\u001b[0m",
      "\u001b[0;31mNameError\u001b[0m: name 'lit_f' is not defined"
     ]
    }
   ],
   "source": [
    "input_lit_a = input(\"Enter elements of a list separated by space \")\n",
    "print(\"\\n\")\n",
    "entered_lit_a = input_lit_a.split()\n",
    "for i in range(len(entered_lit_a)):\n",
    "    entered_lit_a[i] = int(entered_lit_a[i])\n",
    "    \n",
    "input_lit_b = input(\"Enter several elements of a list separated by space \")\n",
    "print(\"\\n\")\n",
    "entered_lit_b = input_lit_b.split()\n",
    "for i in range(len(entered_lit_b)):\n",
    "    entered_lit_b[i] = int(entered_lit_b[i])\n",
    "\n",
    "def intersection(lst1, lst2):\n",
    "    lit_f = []\n",
    "    lit_c = [value for value in entered_lit_a if value in entered_lit_b]\n",
    "    lit_f.append(lit_c)\n",
    "    return lit_c\n",
    "\n",
    "print(intersection(entered_lit_a, entered_lit_b))\n",
    "\n",
    "input_lit_d = input(\"Enter elements of a list separated by space \")\n",
    "print(\"\\n\")\n",
    "entered_lit_d = input_lit_d.split()\n",
    "for i in range(len(entered_lit_d)):\n",
    "    entered_lit_d[i] = int(entered_lit_d[i])\n",
    "def intersection2(lst1, lst2):\n",
    "    \n",
    "    lit_e = [value for value in lit_f if value in entered_lit_d]\n",
    "    return lit_e\n",
    "\n",
    "print(intersection(lit_f, entered_lit_d))\n"
   ]
  },
  {
   "cell_type": "markdown",
   "metadata": {},
   "source": [
    "## Challenge\n",
    "\n",
    "#### 10) Create a function named **\"matrix\"** that implements matrix multiplication:\n",
    "    \n",
    "Given the matrices:\n",
    "    \n",
    "$A_{m\\times n}=\n",
    "\\left[\\begin{matrix}\n",
    "a_{11}&a_{12}&...&a_{1n}\\\\\n",
    "a_{21}&a_{22}&...&a_{2n}\\\\\n",
    "\\vdots &\\vdots &&\\vdots\\\\\n",
    "a_{m1}&a_{m2}&...&a_{mn}\\\\\n",
    "\\end{matrix}\\right]$\n",
    "    \n",
    "We will represent then as a list of lists.\n",
    "\n",
    "$A = [[a_{11},a_{12},...,a_{1n}],[a_{21},a_{22},...,a_{2n}], . . . ,[a_{m1},a_{m2},...,a_{mn}]]$\n",
    "\n",
    "The **\"matrix\"** funtion must receive two matrices $A$ e $B$ in the specified format and return $A\\times B$"
   ]
  },
  {
   "cell_type": "code",
   "execution_count": 5,
   "metadata": {},
   "outputs": [
    {
     "name": "stdout",
     "output_type": "stream",
     "text": [
      "[37, 46, 44, 5]\n",
      "[56, 71, 79, 10]\n",
      "[91, 122, 140, 23]\n"
     ]
    }
   ],
   "source": [
    "\n",
    "\n",
    "A = [[1,4,3],\n",
    "    [2 ,5,6],\n",
    "    [7 ,8,9]]\n",
    "\n",
    "B = [[1,3,5,2],\n",
    "    [6,7,3,0],\n",
    "    [4,5,9,1]]\n",
    "\n",
    "result = [[sum(a*b for a,b in zip(A_row,B_col)) for B_col in zip(*B)] for A_row in A]\n",
    "\n",
    "for r in result:\n",
    "   print(r)"
   ]
  },
  {
   "cell_type": "code",
   "execution_count": null,
   "metadata": {},
   "outputs": [],
   "source": []
  }
 ],
 "metadata": {
  "kernelspec": {
   "display_name": "Python 3",
   "language": "python",
   "name": "python3"
  },
  "language_info": {
   "codemirror_mode": {
    "name": "ipython",
    "version": 3
   },
   "file_extension": ".py",
   "mimetype": "text/x-python",
   "name": "python",
   "nbconvert_exporter": "python",
   "pygments_lexer": "ipython3",
   "version": "3.8.8"
  }
 },
 "nbformat": 4,
 "nbformat_minor": 4
}
