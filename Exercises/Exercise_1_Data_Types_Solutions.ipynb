{
 "cells": [
  {
   "cell_type": "markdown",
   "metadata": {
    "colab_type": "text",
    "id": "PxZcte-5HBbA"
   },
   "source": [
    "# Introduction to Python   \n",
    "\n",
    "### Data Types (Solutions)"
   ]
  },
  {
   "cell_type": "markdown",
   "metadata": {
    "colab_type": "text",
    "id": "3959qckPHBbC"
   },
   "source": [
    "### 1 - What are the Python most common built-in data types?    \n",
    "#### Give examples creating variables for each of them.  "
   ]
  },
  {
   "cell_type": "code",
   "execution_count": 5,
   "metadata": {
    "colab": {},
    "colab_type": "code",
    "id": "8UNlY2icHBbE"
   },
   "outputs": [],
   "source": [
    "an_integer = 2"
   ]
  },
  {
   "cell_type": "code",
   "execution_count": 6,
   "metadata": {
    "colab": {},
    "colab_type": "code",
    "id": "3QgD2Io4HBbI"
   },
   "outputs": [],
   "source": [
    "a_float = 2.5"
   ]
  },
  {
   "cell_type": "code",
   "execution_count": 7,
   "metadata": {
    "colab": {},
    "colab_type": "code",
    "id": "GKrK-LFlHBbL"
   },
   "outputs": [],
   "source": [
    "a_string = 'learning python is fun'"
   ]
  },
  {
   "cell_type": "code",
   "execution_count": 8,
   "metadata": {
    "colab": {},
    "colab_type": "code",
    "id": "MQOBtSuoHBbN"
   },
   "outputs": [],
   "source": [
    "list1 = [1, 2, 5, 'lists are capable of storing multiple types']"
   ]
  },
  {
   "cell_type": "code",
   "execution_count": 9,
   "metadata": {
    "colab": {},
    "colab_type": "code",
    "id": "3ZIkw2tuHBbQ"
   },
   "outputs": [],
   "source": [
    "boolean = an_integer > a_float"
   ]
  },
  {
   "cell_type": "markdown",
   "metadata": {
    "colab_type": "text",
    "id": "CtoCPgHtHBbZ"
   },
   "source": [
    "### 2 - Exemplify at least 5 ways to convert data types, using the variables that were created in the previous question:  "
   ]
  },
  {
   "cell_type": "code",
   "execution_count": 10,
   "metadata": {
    "colab": {
     "base_uri": "https://localhost:8080/",
     "height": 34
    },
    "colab_type": "code",
    "id": "nXDBjTpVHBba",
    "outputId": "46d5dd3d-0cd7-40d5-8c70-ac2db4ee56bd"
   },
   "outputs": [
    {
     "data": {
      "text/plain": [
       "2.0"
      ]
     },
     "execution_count": 10,
     "metadata": {},
     "output_type": "execute_result"
    }
   ],
   "source": [
    "float(an_integer)"
   ]
  },
  {
   "cell_type": "code",
   "execution_count": 11,
   "metadata": {
    "colab": {
     "base_uri": "https://localhost:8080/",
     "height": 34
    },
    "colab_type": "code",
    "id": "n28gHBhVHBbc",
    "outputId": "0a933379-e59e-4b5e-89c7-cf44e49f5dd3"
   },
   "outputs": [
    {
     "data": {
      "text/plain": [
       "2"
      ]
     },
     "execution_count": 11,
     "metadata": {},
     "output_type": "execute_result"
    }
   ],
   "source": [
    "int(a_float)"
   ]
  },
  {
   "cell_type": "code",
   "execution_count": 12,
   "metadata": {
    "colab": {
     "base_uri": "https://localhost:8080/",
     "height": 386
    },
    "colab_type": "code",
    "id": "noXN06w_HBbe",
    "outputId": "bc296f92-df97-4fb4-9710-7d6aa172bf77"
   },
   "outputs": [
    {
     "data": {
      "text/plain": [
       "['l',\n",
       " 'e',\n",
       " 'a',\n",
       " 'r',\n",
       " 'n',\n",
       " 'i',\n",
       " 'n',\n",
       " 'g',\n",
       " ' ',\n",
       " 'p',\n",
       " 'y',\n",
       " 't',\n",
       " 'h',\n",
       " 'o',\n",
       " 'n',\n",
       " ' ',\n",
       " 'i',\n",
       " 's',\n",
       " ' ',\n",
       " 'f',\n",
       " 'u',\n",
       " 'n']"
      ]
     },
     "execution_count": 12,
     "metadata": {},
     "output_type": "execute_result"
    }
   ],
   "source": [
    "list(a_string)"
   ]
  },
  {
   "cell_type": "code",
   "execution_count": 4,
   "metadata": {
    "colab": {
     "base_uri": "https://localhost:8080/",
     "height": 35
    },
    "colab_type": "code",
    "id": "AMzi9RrgHBbg",
    "outputId": "b701d071-04b9-4acf-a58a-ff345f31e735"
   },
   "outputs": [
    {
     "ename": "NameError",
     "evalue": "name 'an_integer' is not defined",
     "output_type": "error",
     "traceback": [
      "\u001b[0;31m---------------------------------------------------------------------------\u001b[0m",
      "\u001b[0;31mNameError\u001b[0m                                 Traceback (most recent call last)",
      "\u001b[0;32m<ipython-input-4-e9baa7cd6f68>\u001b[0m in \u001b[0;36m<module>\u001b[0;34m\u001b[0m\n\u001b[0;32m----> 1\u001b[0;31m \u001b[0mstr\u001b[0m\u001b[0;34m(\u001b[0m\u001b[0man_integer\u001b[0m\u001b[0;34m)\u001b[0m\u001b[0;34m\u001b[0m\u001b[0;34m\u001b[0m\u001b[0m\n\u001b[0m",
      "\u001b[0;31mNameError\u001b[0m: name 'an_integer' is not defined"
     ]
    }
   ],
   "source": [
    "str(an_integer)"
   ]
  },
  {
   "cell_type": "code",
   "execution_count": 10,
   "metadata": {
    "colab": {
     "base_uri": "https://localhost:8080/",
     "height": 35
    },
    "colab_type": "code",
    "id": "aROy5hWMHBbj",
    "outputId": "5f7e4760-d79f-40e7-ea13-ce22e2990981"
   },
   "outputs": [
    {
     "data": {
      "text/plain": [
       "'2.5'"
      ]
     },
     "execution_count": 10,
     "metadata": {},
     "output_type": "execute_result"
    }
   ],
   "source": [
    "str(a_float)"
   ]
  },
  {
   "cell_type": "markdown",
   "metadata": {
    "colab_type": "text",
    "id": "gdDbshAcHBbm"
   },
   "source": [
    "### 3- Exemplify the use of individual or combined built-in data types to create the following data structures:  \n",
    "\n",
    "+ A medical record  \n",
    "+ A 3x3 pixel matrix in RGB format  \n",
    "+ A set of geographical coordinates representing the Mayor's Office in 3 different cities  "
   ]
  },
  {
   "cell_type": "code",
   "execution_count": 11,
   "metadata": {
    "colab": {},
    "colab_type": "code",
    "id": "dJGJZ81OHBbm"
   },
   "outputs": [],
   "source": [
    "medical_record = {\"Name\":\"some name\", \"Height\": 183, \"Weight\": 73, \"BirthDate\": \"08-01-2021\"}"
   ]
  },
  {
   "cell_type": "code",
   "execution_count": 12,
   "metadata": {},
   "outputs": [
    {
     "data": {
      "text/plain": [
       "[[[242, 255, 255], [111, 111, 23], [254, 254, 254]],\n",
       " [[242, 255, 255], [111, 111, 23], [254, 254, 254]],\n",
       " [[242, 255, 255], [111, 111, 23], [254, 254, 254]]]"
      ]
     },
     "execution_count": 12,
     "metadata": {},
     "output_type": "execute_result"
    }
   ],
   "source": [
    "image1 = [[[242,255,255],[111,111,23],[254,254,254]],\n",
    "         [[242,255,255],[111,111,23],[254,254,254]],\n",
    "         [[242,255,255],[111,111,23],[254,254,254]]]\n",
    "image1"
   ]
  },
  {
   "cell_type": "code",
   "execution_count": 13,
   "metadata": {},
   "outputs": [
    {
     "data": {
      "text/plain": [
       "{'red': [[242, 255, 255], [111, 111, 23], [254, 254, 254]],\n",
       " 'green': [[242, 255, 255], [111, 111, 23], [254, 254, 254]],\n",
       " 'blue': [[242, 255, 255], [111, 111, 23], [254, 254, 254]]}"
      ]
     },
     "execution_count": 13,
     "metadata": {},
     "output_type": "execute_result"
    }
   ],
   "source": [
    "image2 = {\"red\": [[242,255,255],[111,111,23],[254,254,254]],\n",
    "         \"green\": [[242,255,255],[111,111,23],[254,254,254]],\n",
    "         \"blue\": [[242,255,255],[111,111,23],[254,254,254]]}\n",
    "image2"
   ]
  },
  {
   "cell_type": "code",
   "execution_count": 14,
   "metadata": {
    "colab": {},
    "colab_type": "code",
    "id": "GFgPfwGxHBbq"
   },
   "outputs": [],
   "source": [
    "coordinates = [(-33.382523,-70.584099),(40.739582,-73.988358),(48.866081,2.316417)]"
   ]
  },
  {
   "cell_type": "markdown",
   "metadata": {
    "colab_type": "text",
    "id": "gbShzgKmHBbs"
   },
   "source": [
    "### 4- Give some examples on how to access the data in the data structures created in the previous question:"
   ]
  },
  {
   "cell_type": "code",
   "execution_count": 15,
   "metadata": {
    "colab": {
     "base_uri": "https://localhost:8080/",
     "height": 35
    },
    "colab_type": "code",
    "id": "bj-9sGC5HBbw",
    "outputId": "fac8fe64-9881-46a7-eea2-ee79af6b0eb6"
   },
   "outputs": [
    {
     "data": {
      "text/plain": [
       "'some name'"
      ]
     },
     "execution_count": 15,
     "metadata": {},
     "output_type": "execute_result"
    }
   ],
   "source": [
    "medical_record[\"Name\"]"
   ]
  },
  {
   "cell_type": "code",
   "execution_count": 16,
   "metadata": {},
   "outputs": [
    {
     "data": {
      "text/plain": [
       "[[242, 255, 255], [111, 111, 23], [254, 254, 254]]"
      ]
     },
     "execution_count": 16,
     "metadata": {},
     "output_type": "execute_result"
    }
   ],
   "source": [
    "image1[0]"
   ]
  },
  {
   "cell_type": "code",
   "execution_count": 17,
   "metadata": {},
   "outputs": [
    {
     "data": {
      "text/plain": [
       "[[242, 255, 255], [111, 111, 23], [254, 254, 254]]"
      ]
     },
     "execution_count": 17,
     "metadata": {},
     "output_type": "execute_result"
    }
   ],
   "source": [
    "image2[\"red\"]"
   ]
  },
  {
   "cell_type": "code",
   "execution_count": 18,
   "metadata": {
    "colab": {
     "base_uri": "https://localhost:8080/",
     "height": 34
    },
    "colab_type": "code",
    "id": "9y5VkvCBHBbs",
    "outputId": "d8df3da1-b67c-4058-c9da-7c148b480d5c"
   },
   "outputs": [
    {
     "data": {
      "text/plain": [
       "(-33.382523, -70.584099)"
      ]
     },
     "execution_count": 18,
     "metadata": {},
     "output_type": "execute_result"
    }
   ],
   "source": [
    "coordinates[0]"
   ]
  },
  {
   "cell_type": "code",
   "execution_count": 19,
   "metadata": {
    "colab": {
     "base_uri": "https://localhost:8080/",
     "height": 34
    },
    "colab_type": "code",
    "id": "KpA13G6zHBbu",
    "outputId": "79687b8a-c48e-4986-88d2-9c18c04f02c7"
   },
   "outputs": [
    {
     "data": {
      "text/plain": [
       "-33.382523"
      ]
     },
     "execution_count": 19,
     "metadata": {},
     "output_type": "execute_result"
    }
   ],
   "source": [
    "coordinates[0][0]"
   ]
  },
  {
   "cell_type": "markdown",
   "metadata": {
    "colab_type": "text",
    "id": "TXY1J97xHBby"
   },
   "source": [
    "### 5- Explain with examples the differences between:  \n",
    "\n",
    "+ Mutable and immutable types  \n",
    "+ Container types  \n",
    "+ Sequential types  "
   ]
  },
  {
   "cell_type": "code",
   "execution_count": 20,
   "metadata": {
    "colab": {},
    "colab_type": "code",
    "id": "U1UfjJDAHBby"
   },
   "outputs": [],
   "source": [
    "#lists are mutable\n",
    "\n",
    "list1.append('last_object')"
   ]
  },
  {
   "cell_type": "code",
   "execution_count": 21,
   "metadata": {
    "colab": {
     "base_uri": "https://localhost:8080/",
     "height": 34
    },
    "colab_type": "code",
    "id": "JPVZa8LxHBb1",
    "outputId": "cf460333-a377-4fd0-81db-9e83baf891d1"
   },
   "outputs": [
    {
     "data": {
      "text/plain": [
       "[1, 2, 5, 'lists are capable of storing multiple types', 'last_object']"
      ]
     },
     "execution_count": 21,
     "metadata": {},
     "output_type": "execute_result"
    }
   ],
   "source": [
    "list1"
   ]
  },
  {
   "cell_type": "code",
   "execution_count": 22,
   "metadata": {
    "colab": {
     "base_uri": "https://localhost:8080/",
     "height": 35
    },
    "colab_type": "code",
    "id": "RxYXPWlwHBb3",
    "outputId": "b774a5ed-217f-41a5-e4eb-e1df170ce2cc"
   },
   "outputs": [
    {
     "data": {
      "text/plain": [
       "'Learning python is fun'"
      ]
     },
     "execution_count": 22,
     "metadata": {},
     "output_type": "execute_result"
    }
   ],
   "source": [
    "# strings are immutable\n",
    "\n",
    "a_string.capitalize() "
   ]
  },
  {
   "cell_type": "code",
   "execution_count": 23,
   "metadata": {
    "colab": {
     "base_uri": "https://localhost:8080/",
     "height": 35
    },
    "colab_type": "code",
    "id": "tFbRHMfhL34k",
    "outputId": "d5f13e84-1e9c-4a0a-da65-8e012362de48"
   },
   "outputs": [
    {
     "data": {
      "text/plain": [
       "'learning python is fun'"
      ]
     },
     "execution_count": 23,
     "metadata": {},
     "output_type": "execute_result"
    }
   ],
   "source": [
    "a_string"
   ]
  },
  {
   "cell_type": "code",
   "execution_count": 24,
   "metadata": {
    "colab": {},
    "colab_type": "code",
    "id": "skpyJ4fveMot"
   },
   "outputs": [],
   "source": [
    "# Container types: tuple, list, set, dict"
   ]
  },
  {
   "cell_type": "markdown",
   "metadata": {
    "colab_type": "text",
    "id": "LLw2PMcFeMNw"
   },
   "source": [
    "+ A sequence is the generic term for an ordered set. The most important sequential types: **string, tuple, lists**\n",
    "+ Dictionaries are ordered since Python v. 3.7, but we cannnot access the elements sequentiallly.\n",
    "+ Containers are any object that holds an arbitrary number of other objects (def. from Stackoverflow)"
   ]
  },
  {
   "cell_type": "markdown",
   "metadata": {
    "colab_type": "text",
    "id": "lzqB7bOIM5IQ"
   },
   "source": [
    "For example **sets** and **dicts** are container types, but are not sequential types"
   ]
  },
  {
   "cell_type": "code",
   "execution_count": 25,
   "metadata": {
    "colab": {},
    "colab_type": "code",
    "id": "kmcavyHDOFPq"
   },
   "outputs": [],
   "source": [
    "new_set = set([70, 52, 65, 120, 3, 1])"
   ]
  },
  {
   "cell_type": "code",
   "execution_count": 26,
   "metadata": {
    "colab": {
     "base_uri": "https://localhost:8080/",
     "height": 34
    },
    "colab_type": "code",
    "id": "1qy9MhQ0ORMN",
    "outputId": "ffa073b4-8e70-46f0-cf21-00cc3ab9bbd8"
   },
   "outputs": [
    {
     "data": {
      "text/plain": [
       "{1, 3, 52, 65, 70, 120}"
      ]
     },
     "execution_count": 26,
     "metadata": {},
     "output_type": "execute_result"
    }
   ],
   "source": [
    "new_set"
   ]
  },
  {
   "cell_type": "code",
   "execution_count": 27,
   "metadata": {
    "colab": {
     "base_uri": "https://localhost:8080/",
     "height": 162
    },
    "colab_type": "code",
    "id": "Xo2t7MkvOXkW",
    "outputId": "cfef48dd-a1ed-4f62-aa6f-533e64af460d"
   },
   "outputs": [
    {
     "ename": "TypeError",
     "evalue": "'set' object is not subscriptable",
     "output_type": "error",
     "traceback": [
      "\u001b[0;31m---------------------------------------------------------------------------\u001b[0m",
      "\u001b[0;31mTypeError\u001b[0m                                 Traceback (most recent call last)",
      "\u001b[0;32m<ipython-input-27-ba067bd5a74b>\u001b[0m in \u001b[0;36m<module>\u001b[0;34m\u001b[0m\n\u001b[0;32m----> 1\u001b[0;31m \u001b[0mnew_set\u001b[0m\u001b[0;34m[\u001b[0m\u001b[0;36m0\u001b[0m\u001b[0;34m]\u001b[0m\u001b[0;34m\u001b[0m\u001b[0;34m\u001b[0m\u001b[0m\n\u001b[0m",
      "\u001b[0;31mTypeError\u001b[0m: 'set' object is not subscriptable"
     ]
    }
   ],
   "source": [
    "new_set[0]  #error"
   ]
  },
  {
   "cell_type": "code",
   "execution_count": 28,
   "metadata": {
    "colab": {},
    "colab_type": "code",
    "id": "OjVSAAdeOelY"
   },
   "outputs": [],
   "source": [
    "new_dict = {'two':2,'four':4}"
   ]
  },
  {
   "cell_type": "code",
   "execution_count": 29,
   "metadata": {
    "colab": {
     "base_uri": "https://localhost:8080/",
     "height": 162
    },
    "colab_type": "code",
    "id": "BZg_343EOiiI",
    "outputId": "d6cc1814-6229-4172-f134-03830aca902d"
   },
   "outputs": [
    {
     "ename": "KeyError",
     "evalue": "0",
     "output_type": "error",
     "traceback": [
      "\u001b[0;31m---------------------------------------------------------------------------\u001b[0m",
      "\u001b[0;31mKeyError\u001b[0m                                  Traceback (most recent call last)",
      "\u001b[0;32m<ipython-input-29-cf1e5af609ae>\u001b[0m in \u001b[0;36m<module>\u001b[0;34m\u001b[0m\n\u001b[0;32m----> 1\u001b[0;31m \u001b[0mnew_dict\u001b[0m\u001b[0;34m[\u001b[0m\u001b[0;36m0\u001b[0m\u001b[0;34m]\u001b[0m\u001b[0;34m\u001b[0m\u001b[0;34m\u001b[0m\u001b[0m\n\u001b[0m",
      "\u001b[0;31mKeyError\u001b[0m: 0"
     ]
    }
   ],
   "source": [
    "new_dict[0]  #error"
   ]
  },
  {
   "cell_type": "markdown",
   "metadata": {
    "colab_type": "text",
    "id": "OT3zfdWzHBb5"
   },
   "source": [
    "### 6 - Exemplify primitive/method calls on variables associated with data types that:\n",
    "+ Do not modify the variable and do not return values when the method is called  \n",
    "+ Modify the variable but do not return values when the method is called  \n",
    "+ Do not modify the variable but return values to the method call  \n",
    "+ Modify the variable and return values to the method call  "
   ]
  },
  {
   "cell_type": "code",
   "execution_count": 42,
   "metadata": {
    "colab": {
     "base_uri": "https://localhost:8080/",
     "height": 34
    },
    "colab_type": "code",
    "id": "0brznkNoHBb5",
    "outputId": "5169c381-bbf4-4f7b-e8a9-e8b1313856fb"
   },
   "outputs": [
    {
     "name": "stdout",
     "output_type": "stream",
     "text": [
      "a string\n",
      "None\n"
     ]
    }
   ],
   "source": [
    "# Do not modify the variable and do not return values when the method is called\n",
    "\n",
    "a = \"a string\"\n",
    "\n",
    "value_returned = print(a)\n",
    "\n",
    "print(value_returned)"
   ]
  },
  {
   "cell_type": "code",
   "execution_count": 40,
   "metadata": {
    "colab": {},
    "colab_type": "code",
    "id": "fl1WljwDHBb7"
   },
   "outputs": [
    {
     "name": "stdout",
     "output_type": "stream",
     "text": [
      "['variable']\n",
      "None\n"
     ]
    }
   ],
   "source": [
    "# Modify the variable but do not return values when the method is called \n",
    "\n",
    "list1 = []\n",
    "\n",
    "value_returned = list1.append('variable')\n",
    "\n",
    "print(list1)\n",
    "print(value_returned)"
   ]
  },
  {
   "cell_type": "code",
   "execution_count": 44,
   "metadata": {
    "colab": {
     "base_uri": "https://localhost:8080/",
     "height": 35
    },
    "colab_type": "code",
    "id": "f4m75htbHBb9",
    "outputId": "19fb6edd-250e-4991-f83f-0c065b2b9a90"
   },
   "outputs": [
    {
     "name": "stdout",
     "output_type": "stream",
     "text": [
      "learning python is fun\n",
      "LEARNING PYTHON IS FUN\n"
     ]
    }
   ],
   "source": [
    "# Do not modify the variable but return values to the method call \n",
    "# a method in an immutable object\n",
    "\n",
    "value_returned = a_string.upper()\n",
    "\n",
    "print(a_string)\n",
    "print(value_returned)"
   ]
  },
  {
   "cell_type": "code",
   "execution_count": 45,
   "metadata": {
    "colab": {},
    "colab_type": "code",
    "id": "ir4856l2HBb_"
   },
   "outputs": [
    {
     "name": "stdout",
     "output_type": "stream",
     "text": [
      "['first', 'second', 'third']\n",
      "['first', 'second']\n",
      "third\n"
     ]
    }
   ],
   "source": [
    "# Modify the variable and return values to the method call  \n",
    "\n",
    "list1 = [\"first\", \"second\", \"third\"]\n",
    "\n",
    "print(list1)\n",
    "\n",
    "value_returned = list1.pop()\n",
    "\n",
    "print(list1)\n",
    "print(value_returned)"
   ]
  },
  {
   "cell_type": "markdown",
   "metadata": {
    "colab_type": "text",
    "id": "9mC7g2hAHBcB"
   },
   "source": [
    "### 7- Exemplify the use of methods for:\n",
    "+ Test whether a string can be converted to an integer  \n",
    "+ Test if a set is a subset of another set    \n",
    "+ Concatenate two lists  \n",
    "+ Count the occurrences of an element in a list  "
   ]
  },
  {
   "cell_type": "code",
   "execution_count": null,
   "metadata": {
    "colab": {
     "base_uri": "https://localhost:8080/",
     "height": 34
    },
    "colab_type": "code",
    "id": "Y31f9C3mHBcD",
    "outputId": "59ab540c-c95f-4674-89ea-3dde1ca17a21"
   },
   "outputs": [],
   "source": [
    "# a)\n",
    "string_test = '15'\n",
    "print(string_test.isdigit())\n",
    "type(int(string_test))"
   ]
  },
  {
   "cell_type": "code",
   "execution_count": null,
   "metadata": {
    "colab": {
     "base_uri": "https://localhost:8080/",
     "height": 34
    },
    "colab_type": "code",
    "id": "-9sM2ugSHBcF",
    "outputId": "4f4fbbd7-44c5-4806-8d3a-f80195b74dc2"
   },
   "outputs": [],
   "source": [
    "# b)\n",
    "\n",
    "subset_test = set([1,2,3])\n",
    "set_test = set(range(10))\n",
    "subset_test.issubset(set_test)"
   ]
  },
  {
   "cell_type": "code",
   "execution_count": null,
   "metadata": {
    "colab": {},
    "colab_type": "code",
    "id": "7aEedbuydmdt"
   },
   "outputs": [],
   "source": [
    "# c) \n",
    "\n",
    "list_1 = [2,3, 'random_string']\n",
    "list_2 = [6.8, [24,25,26]]\n",
    "print(list_1)\n",
    "\n",
    "# in-place\n",
    "list_1.extend(list_2)\n",
    "print(list_1)\n",
    "\n",
    "# creating another list\n",
    "\n",
    "list_3 = list_1 + list_2"
   ]
  },
  {
   "cell_type": "code",
   "execution_count": null,
   "metadata": {
    "colab": {
     "base_uri": "https://localhost:8080/",
     "height": 34
    },
    "colab_type": "code",
    "id": "orGlnQUmI0K-",
    "outputId": "0ba057c3-9c8f-41c2-ea6b-4a6937052219"
   },
   "outputs": [],
   "source": [
    "# d)\n",
    "\n",
    "list_4 = ['VALE3', 'B3SA3', 'PETR4', 'BBAS3', 'VVAR3', 'VALE3', 'B3SA3', 'PETR4', 'BBAS3', 'VVAR3', 'VALE3', 'B3SA3', 'PETR4', 'BBAS3', \n",
    "          'VVAR3', 'VALE3', 'B3SA3', 'PETR4', 'BBAS3', 'VVAR3', 'VALE3', 'B3SA3', 'PETR4', 'BBAS3', 'VVAR3', 'VALE3', 'B3SA3', 'PETR4',\n",
    "          'BBAS3', 'VALE3', 'B3SA3', 'PETR4', 'BBAS3', 'VALE3', 'B3SA3', 'PETR4', 'VALE3', 'B3SA3', 'VALE3']\n",
    "\n",
    "list_4.count('VALE3')"
   ]
  },
  {
   "cell_type": "markdown",
   "metadata": {
    "colab_type": "text",
    "id": "lIPFi3FAHBcJ"
   },
   "source": [
    "### 8 - Describe, in general terms, what a programming language is, and what it is for.  "
   ]
  },
  {
   "cell_type": "markdown",
   "metadata": {
    "colab_type": "text",
    "id": "p1cmv1d5HBcJ"
   },
   "source": [
    "+ A **computational model** is a collection of values and operations.\n",
    "+ A **computation** is the application of a sequence of operations to a value to yield another value.\n",
    "+ A **program** is a specification of a computation.\n",
    "+ **A programming language is a notation for writing programs.**\n",
    "+ The** syntax of a programming language** refers to the structure or form of programs.\n",
    "+ The **semantics of a programming language** describe the relationship between a program and the model of computation.\n",
    "+ The **pragmatics of a programming language** describe the degree of success with which a programming language meets its goals both in its faithfulness to the underlying model of computation and in its utility for human programmers.\n",
    "\n",
    "\n",
    "Aaby, Anthony A. \"Introduction to programming languages.\" Computer Science Department, Walla Walla College(1996).\n"
   ]
  }
 ],
 "metadata": {
  "colab": {
   "collapsed_sections": [],
   "name": "Cópia de 1_Data_Types_Exercise.ipynb",
   "provenance": [],
   "toc_visible": true
  },
  "kernelspec": {
   "display_name": "Python 3",
   "language": "python",
   "name": "python3"
  },
  "language_info": {
   "codemirror_mode": {
    "name": "ipython",
    "version": 3
   },
   "file_extension": ".py",
   "mimetype": "text/x-python",
   "name": "python",
   "nbconvert_exporter": "python",
   "pygments_lexer": "ipython3",
   "version": "3.8.8"
  }
 },
 "nbformat": 4,
 "nbformat_minor": 4
}
