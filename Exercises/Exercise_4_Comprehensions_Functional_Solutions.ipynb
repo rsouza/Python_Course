{
 "cells": [
  {
   "cell_type": "markdown",
   "metadata": {
    "id": "EluRo1fC7YSm"
   },
   "source": [
    "# Introduction to Python   \n",
    "\n",
    "### Comprehensions and Functional Programming (Solutions)"
   ]
  },
  {
   "cell_type": "markdown",
   "metadata": {
    "id": "T586rDGKGiEb"
   },
   "source": [
    "#### 1) Use list comprehension to create a list that:\n",
    "\n",
    "- a) Given a list of strings, contains the length of them.\n",
    "\n",
    "- b) Contains all the cubes of the multiples of 17 in a range from 1 to 1000.\n",
    "\n",
    "- c) Contains all the numbers from 1 to 100 that starts with 4 or 5 and are even numbers.\n",
    "\n",
    "- d) Contains all the numbers from 1 to 1000 that have the digit 3 in them.\n",
    "\n",
    "- e) Given a list of strings, transform to upper if the first letter is a vowel and invert the string otherwise.\n",
    "\n",
    "       For example, ['apple', 'orange', 'watermelon'] -> ['APPLE','ORANGE', 'nolemretaw']"
   ]
  },
  {
   "cell_type": "code",
   "execution_count": 1,
   "metadata": {},
   "outputs": [
    {
     "name": "stdout",
     "output_type": "stream",
     "text": [
      "[7, 8, 5, 6, 6]\n"
     ]
    }
   ],
   "source": [
    "list_strings = ['Ricardo','Fernanda','Pedro','Renato', 'Amanda']\n",
    "print([len(i) for i in list_strings])"
   ]
  },
  {
   "cell_type": "code",
   "execution_count": 2,
   "metadata": {},
   "outputs": [
    {
     "name": "stdout",
     "output_type": "stream",
     "text": [
      "[4913, 39304, 132651, 314432, 614125, 1061208, 1685159, 2515456, 3581577, 4913000, 6539203, 8489664, 10793861, 13481272, 16581375, 20123648, 24137569, 28652616, 33698267, 39304000, 45499293, 52313624, 59776471, 67917312, 76765625, 86350888, 96702579, 107850176, 119823157, 132651000, 146363183, 160989184, 176558481, 193100552, 210644875, 229220928, 248858189, 269586136, 291434247, 314432000, 338608873, 363994344, 390617891, 418508992, 447697125, 478211768, 510082399, 543338496, 578009537, 614125000, 651714363, 690807104, 731432701, 773620632, 817400375, 862801408, 909853209, 958585256]\n"
     ]
    }
   ],
   "source": [
    "print([i**3 for i in range(1,1001) if i % 17 == 0])"
   ]
  },
  {
   "cell_type": "code",
   "execution_count": 3,
   "metadata": {},
   "outputs": [
    {
     "name": "stdout",
     "output_type": "stream",
     "text": [
      "[4, 40, 42, 44, 46, 48, 50, 52, 54, 56, 58]\n"
     ]
    }
   ],
   "source": [
    "print([i for i in range(1,101) if str(i)[0] in ['4','5'] and  i % 2 == 0])"
   ]
  },
  {
   "cell_type": "code",
   "execution_count": 4,
   "metadata": {},
   "outputs": [
    {
     "name": "stdout",
     "output_type": "stream",
     "text": [
      "[3, 13, 23, 30, 31, 32, 33, 34, 35, 36, 37, 38, 39, 43, 53, 63, 73, 83, 93, 103, 113, 123, 130, 131, 132, 133, 134, 135, 136, 137, 138, 139, 143, 153, 163, 173, 183, 193, 203, 213, 223, 230, 231, 232, 233, 234, 235, 236, 237, 238, 239, 243, 253, 263, 273, 283, 293, 300, 301, 302, 303, 304, 305, 306, 307, 308, 309, 310, 311, 312, 313, 314, 315, 316, 317, 318, 319, 320, 321, 322, 323, 324, 325, 326, 327, 328, 329, 330, 331, 332, 333, 334, 335, 336, 337, 338, 339, 340, 341, 342, 343, 344, 345, 346, 347, 348, 349, 350, 351, 352, 353, 354, 355, 356, 357, 358, 359, 360, 361, 362, 363, 364, 365, 366, 367, 368, 369, 370, 371, 372, 373, 374, 375, 376, 377, 378, 379, 380, 381, 382, 383, 384, 385, 386, 387, 388, 389, 390, 391, 392, 393, 394, 395, 396, 397, 398, 399, 403, 413, 423, 430, 431, 432, 433, 434, 435, 436, 437, 438, 439, 443, 453, 463, 473, 483, 493, 503, 513, 523, 530, 531, 532, 533, 534, 535, 536, 537, 538, 539, 543, 553, 563, 573, 583, 593, 603, 613, 623, 630, 631, 632, 633, 634, 635, 636, 637, 638, 639, 643, 653, 663, 673, 683, 693, 703, 713, 723, 730, 731, 732, 733, 734, 735, 736, 737, 738, 739, 743, 753, 763, 773, 783, 793, 803, 813, 823, 830, 831, 832, 833, 834, 835, 836, 837, 838, 839, 843, 853, 863, 873, 883, 893, 903, 913, 923, 930, 931, 932, 933, 934, 935, 936, 937, 938, 939, 943, 953, 963, 973, 983, 993]\n"
     ]
    }
   ],
   "source": [
    "print([i for i in range(1,1001) if '3' in str(i)])"
   ]
  },
  {
   "cell_type": "code",
   "execution_count": 5,
   "metadata": {},
   "outputs": [
    {
     "name": "stdout",
     "output_type": "stream",
     "text": [
      "['odraciR', 'adnanreF', 'ordeP', 'otaneR', 'AMANDA']\n"
     ]
    }
   ],
   "source": [
    "print([i.upper() if i[0] in 'aeiou'+'aeiou'.upper() else i[-1::-1] for i in list_strings])"
   ]
  },
  {
   "cell_type": "markdown",
   "metadata": {
    "id": "X73tSdOdHJNN"
   },
   "source": [
    "#### 2) Write a function that takes a list with two numbers in it and determines if the sum of the digits of the two numbers are equal to each other."
   ]
  },
  {
   "cell_type": "code",
   "execution_count": 6,
   "metadata": {
    "colab": {
     "base_uri": "https://localhost:8080/",
     "height": 35
    },
    "id": "U31YeRZGmAbf",
    "outputId": "48fcacf0-ab79-4cb4-e842-2e06d81af483"
   },
   "outputs": [
    {
     "data": {
      "text/plain": [
       "3"
      ]
     },
     "execution_count": 6,
     "metadata": {},
     "output_type": "execute_result"
    }
   ],
   "source": [
    "sum(map(lambda x:int(x), ['1','2']))"
   ]
  },
  {
   "cell_type": "code",
   "execution_count": 7,
   "metadata": {
    "id": "eZyofM9af_ws"
   },
   "outputs": [],
   "source": [
    "def sum_list_digits(lista):\n",
    "  soma1 = sum(map(lambda x:int(x),str(lista[0])))\n",
    "  soma2 = sum(map(lambda x:int(x),str(lista[1])))\n",
    "  # Não é preciso essa parte\n",
    "  if len(lista) != 2:\n",
    "    return 'Tamanho da lista não é 2'\n",
    "  elif soma1 == soma2:\n",
    "    return True\n",
    "  else:\n",
    "    return False"
   ]
  },
  {
   "cell_type": "code",
   "execution_count": 8,
   "metadata": {
    "colab": {
     "base_uri": "https://localhost:8080/",
     "height": 35
    },
    "id": "LNlGfG0Wmip1",
    "outputId": "e6de6d34-5f2f-48e7-ed1d-dee2714cddeb"
   },
   "outputs": [
    {
     "data": {
      "text/plain": [
       "True"
      ]
     },
     "execution_count": 8,
     "metadata": {},
     "output_type": "execute_result"
    }
   ],
   "source": [
    "sum_list_digits([352,532])"
   ]
  },
  {
   "cell_type": "markdown",
   "metadata": {
    "id": "am_e92rCHNJ-"
   },
   "source": [
    "#### 3) Among all the numbers that are made from the product of two 3-digit numbers:\n",
    "\n",
    "- a) How many are odd numbers?\n",
    "\n",
    "- b) How many start with the digit \"8\" and ends with the digit \"9\"\n",
    "\n",
    "- c) How many are palindromes?"
   ]
  },
  {
   "cell_type": "code",
   "execution_count": 9,
   "metadata": {
    "colab": {
     "base_uri": "https://localhost:8080/",
     "height": 70
    },
    "id": "CClH2YiLgATd",
    "outputId": "c3941ad8-304e-4372-bff5-d352f0e1d18d"
   },
   "outputs": [],
   "source": [
    "product_list = set()\n",
    "for i in range(100,1000):\n",
    "  for j in range(100,1000):\n",
    "    product_list.add(i*j)"
   ]
  },
  {
   "cell_type": "code",
   "execution_count": 10,
   "metadata": {},
   "outputs": [
    {
     "name": "stdout",
     "output_type": "stream",
     "text": [
      "3a) 81888\n"
     ]
    }
   ],
   "source": [
    "print('3a)',len([i for i in list(product_list) if i % 2 != 0]))"
   ]
  },
  {
   "cell_type": "code",
   "execution_count": 11,
   "metadata": {},
   "outputs": [
    {
     "name": "stdout",
     "output_type": "stream",
     "text": [
      "3b) 652\n"
     ]
    }
   ],
   "source": [
    "print('3b)', len([i for i in list(product_list) if str(i)[0] == '8' and str(i)[-1] == '9']))"
   ]
  },
  {
   "cell_type": "code",
   "execution_count": 12,
   "metadata": {},
   "outputs": [
    {
     "name": "stdout",
     "output_type": "stream",
     "text": [
      "3c) 655\n"
     ]
    }
   ],
   "source": [
    "print('3c)', len([i for i in list(product_list) if str(i) == str(i)[-1::-1]]))"
   ]
  },
  {
   "cell_type": "markdown",
   "metadata": {
    "id": "IJ5A3ICXT56U"
   },
   "source": [
    "#### 4) Use functional programming to:"
   ]
  },
  {
   "cell_type": "markdown",
   "metadata": {
    "id": "CQjX0itUV28B"
   },
   "source": [
    "- a) Filter the indexes with positive changes in the dictionary 'stock_indexes'. \n"
   ]
  },
  {
   "cell_type": "code",
   "execution_count": 13,
   "metadata": {
    "id": "x3nUtcLmWNso"
   },
   "outputs": [],
   "source": [
    "stock_indexes = {'FTSE 100':-0.3, 'DAX': -1.65, 'Dow Jones': -1.1, 'Ibovespa':0.2, 'S&P':0.65}"
   ]
  },
  {
   "cell_type": "code",
   "execution_count": 14,
   "metadata": {
    "colab": {
     "base_uri": "https://localhost:8080/",
     "height": 35
    },
    "id": "30Dn8oWxeeKc",
    "outputId": "76991992-80f9-4b73-a99d-cd8e0057a4dc"
   },
   "outputs": [
    {
     "data": {
      "text/plain": [
       "{'Ibovespa': 0.2, 'S&P': 0.65}"
      ]
     },
     "execution_count": 14,
     "metadata": {},
     "output_type": "execute_result"
    }
   ],
   "source": [
    "dict(filter(lambda x:x[1]>0, stock_indexes.items()))"
   ]
  },
  {
   "cell_type": "markdown",
   "metadata": {
    "id": "sWzE6gJLWjW3"
   },
   "source": [
    "- b) Apply a function that generates a list with the types of each element of the list 'elements'"
   ]
  },
  {
   "cell_type": "code",
   "execution_count": 15,
   "metadata": {
    "id": "lHyUqNnMX3D2"
   },
   "outputs": [],
   "source": [
    "elements = [1,'economics', 9.8, 2 + 3j, ['a','b','c'], stock_indexes]"
   ]
  },
  {
   "cell_type": "code",
   "execution_count": 16,
   "metadata": {
    "colab": {
     "base_uri": "https://localhost:8080/",
     "height": 35
    },
    "id": "9foZuNqQevTt",
    "outputId": "94fdb641-81a1-4eba-f5ae-84c881eb3ee2"
   },
   "outputs": [
    {
     "data": {
      "text/plain": [
       "[int, str, float, complex, list, dict]"
      ]
     },
     "execution_count": 16,
     "metadata": {},
     "output_type": "execute_result"
    }
   ],
   "source": [
    "list(map(lambda x:type(x), elements))"
   ]
  },
  {
   "cell_type": "markdown",
   "metadata": {
    "id": "_gW12Ti2YM1J"
   },
   "source": [
    "- c) Transform a list of lists in a flat list\n",
    "    \n",
    "       For example, [[1,2,4],[10,12,14],[1,2]] -> [1,2,4,10,12,14,1,2]"
   ]
  },
  {
   "cell_type": "code",
   "execution_count": 17,
   "metadata": {
    "id": "NA2D69Izfc7_"
   },
   "outputs": [],
   "source": [
    "from functools import reduce"
   ]
  },
  {
   "cell_type": "code",
   "execution_count": 18,
   "metadata": {
    "id": "TPM8t1oQfJD4"
   },
   "outputs": [],
   "source": [
    "list_of_lists = [[1,2,4],[10,12,14],[1,2]] "
   ]
  },
  {
   "cell_type": "code",
   "execution_count": 19,
   "metadata": {
    "colab": {
     "base_uri": "https://localhost:8080/",
     "height": 35
    },
    "id": "bBuiEcFgfA6g",
    "outputId": "f2e70711-b593-41fd-9a3f-90568db7dcaa"
   },
   "outputs": [
    {
     "data": {
      "text/plain": [
       "[1, 2, 4, 10, 12, 14, 1, 2]"
      ]
     },
     "execution_count": 19,
     "metadata": {},
     "output_type": "execute_result"
    }
   ],
   "source": [
    "list(reduce(lambda x,y:x+y,list_of_lists))"
   ]
  }
 ],
 "metadata": {
  "colab": {
   "collapsed_sections": [],
   "name": "Gabarito 2nd_Assignment.ipynb",
   "provenance": []
  },
  "kernelspec": {
   "display_name": "Python 3",
   "language": "python",
   "name": "python3"
  },
  "language_info": {
   "codemirror_mode": {
    "name": "ipython",
    "version": 3
   },
   "file_extension": ".py",
   "mimetype": "text/x-python",
   "name": "python",
   "nbconvert_exporter": "python",
   "pygments_lexer": "ipython3",
   "version": "3.8.8"
  }
 },
 "nbformat": 4,
 "nbformat_minor": 4
}
